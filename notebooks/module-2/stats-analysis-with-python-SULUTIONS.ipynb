{
 "cells": [
  {
   "cell_type": "markdown",
   "id": "2089687f",
   "metadata": {},
   "source": [
    "# Statistical Analysis in Python: EDA, Visualization, and Inference\n",
    "\n",
    "## Introduction\n",
    "\n",
    "In this notebook, we will explore statistical analysis using Python, focusing on three critical components: **Exploratory Data Analysis (EDA)**, **Data Visualization**, and **Statistical Inference**. We'll use Python's most powerful data analysis libraries: **pandas** for data manipulation, **matplotlib** and **seaborn** for static visualization, **plotly** for interactive graphics, **scipy** for statistical testing, and **statsmodels** for regression analysis.\n",
    "\n",
    "## Learning Outcomes\n",
    "\n",
    "### Exploratory Data Analysis (EDA)\n",
    "- Load, inspect, and clean datasets; create derived variables and demographic indicators\n",
    "- Perform comprehensive analysis (univariate, bivariate, multivariate) and handle outliers\n",
    "\n",
    "### Data Visualization\n",
    "- Master matplotlib, seaborn, and plotly for statistical and interactive visualizations\n",
    "- Apply best practices to create publication-ready, multi-panel graphics\n",
    "\n",
    "### Statistical Inference\n",
    "- Formulate and test hypotheses using scipy and statsmodels; perform common statistical tests\n",
    "- Build multiple linear regression models, calculate confidence intervals, and check assumptions\n",
    "\n",
    "\n",
    "## Dataset Description\n",
    "This dataset was created by combining population density data and building footprints. The population density data is age-group specific from Meta. The building footprints were downloaded from Google's Open Buildings dataset. To generate the data at cell-level, I utilized GIS packages in Python. You will learn about this processing in the next session when we cover Module 3 (Spatial Data Processing).\n",
    "\n",
    "**Dataset Overview:**\n",
    "- **Original population density data:** [Gridded Population Density by Age Group](https://drive.google.com/file/d/10ReitvO0LWFT6CnuJEHZzJZGG3WdL75j/view?usp=share_link)\n",
    "- **Building Footprints:** [Google Open Buildings](https://sites.research.google/gr/open-buildings/#open-buildings-download)\n",
    "- **Download link:** [Download data file from here](https://drive.google.com/file/d/1FWEFGdN-xDuFH1jmt0hr4F8Xc3Y5XzvB/view?usp=sharing)\n",
    "\n",
    "\n",
    "### Variable Descriptions\n",
    "\n",
    "#### Geographic Identifiers\n",
    "| Variable | Type | Description |\n",
    "|----------|------|-------------|\n",
    "| `cell_id` | String | Unique identifier for each administrative cell |\n",
    "| `province_name` | String | Province name (5 provinces: Kigali, Eastern, Western, Northern, Southern) |\n",
    "| `district_name` | String | District name within province (30 districts total) |\n",
    "| `sector_name` | String | Sector name within district (administrative subdivision) |\n",
    "| `cell_name` | String | Cell name (smallest administrative unit) |\n",
    "\n",
    "#### Demographic Variables (2020 Population Estimates)\n",
    "| Variable | Description |\n",
    "|----------|-------------|\n",
    "| `general_2020` | Total population in the cell |\n",
    "| `elderly_60_plus_2020` | Population aged 60 years and above |\n",
    "| `children_under_five_2020` | Population under 5 years of age |\n",
    "| `youth_15_24_2020` | Population aged 15-24 years |\n",
    "| `men_2020` | Male population |\n",
    "| `women_2020` | Female population |\n",
    "\n",
    "#### Infrastructure Variable\n",
    "| Variable | Type | Description |\n",
    "|----------|------|-------------|\n",
    "| `building_count` | Float | Number of buildings/structures in the cell |"
   ]
  },
  {
   "cell_type": "code",
   "execution_count": null,
   "id": "900d4f7c",
   "metadata": {},
   "outputs": [],
   "source": [
    "DIR_DATA = Path.cwd().parents[1] / \"data\"\n",
    "FILE_CELL_POP = DIR_DATA / \"population\" / \"rwa-cell-pop.csv\""
   ]
  },
  {
   "cell_type": "markdown",
   "id": "8f97ea58",
   "metadata": {},
   "source": []
  }
 ],
 "metadata": {
  "kernelspec": {
   "display_name": "base",
   "language": "python",
   "name": "python3"
  },
  "language_info": {
   "codemirror_mode": {
    "name": "ipython",
    "version": 3
   },
   "file_extension": ".py",
   "mimetype": "text/x-python",
   "name": "python",
   "nbconvert_exporter": "python",
   "pygments_lexer": "ipython3",
   "version": "3.12.7"
  }
 },
 "nbformat": 4,
 "nbformat_minor": 5
}
