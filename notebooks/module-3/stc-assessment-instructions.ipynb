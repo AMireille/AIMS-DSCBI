{
 "cells": [
  {
   "cell_type": "markdown",
   "id": "83239b0f-22b1-440f-a10b-3ef3f4ff854e",
   "metadata": {
    "id": "83239b0f-22b1-440f-a10b-3ef3f4ff854e"
   },
   "source": [
    "# Exercise for the GIS Market Access Specialist Role\n",
    "The work in this notebook is being done as part of the assessment for the [GIS Market Specialist](https://worldbank.github.io/GOST/content/WB_STCs.html) position. The goal of the exercise is to check and verify that the candidate can perform simple manipulation of geospatial data in a Python environment."
   ]
  },
  {
   "cell_type": "markdown",
   "id": "971bed50-fde6-4d68-95f4-21a76cb1e5fb",
   "metadata": {
    "id": "971bed50-fde6-4d68-95f4-21a76cb1e5fb"
   },
   "source": [
    "## 1. Data\n",
    "All the data required for this activity is in the [data folder](https://drive.google.com/open?id=1bxSeXe4-cFV094MX_yPb6ujePzSqfgxV&usp=drive_fs) and the data pertains to the country of Mozambique.\n",
    "The list of datasets is provided below:\n",
    "1. [Financial services points data](https://drive.google.com/open?id=1bxSeXe4-cFV094MX_yPb6ujePzSqfgxV&usp=drive_fs). A shapefile where each location is a financial facility.\n",
    "2. [2020 population](https://drive.google.com/open?id=1cAWvkghpD6nPVlpqwxz3S6jqox5zQKgu&usp=drive_fs). A csv file with columns ```X, Y``` for coordinates and column ```Z``` for number of people."
   ]
  },
  {
   "cell_type": "markdown",
   "id": "03cf57b8-1cb3-4adf-95fd-b15644812b03",
   "metadata": {
    "id": "03cf57b8-1cb3-4adf-95fd-b15644812b03"
   },
   "source": [
    "## 2. Activity\n",
    "### 2.1 Activity Description: Distance to the Nearest Financial Facility\n",
    "Given the location of the financial facilities (aka FINFA) as provided in the ```MoZ-Finc-POIs.shp``` shapefile in the [data folder](https://drive.google.com/open?id=1bxSeXe4-cFV094MX_yPb6ujePzSqfgxV&usp=drive_fs), we need to analyze distribution of distance (Km) from where people live to the nearest FINFA. For the location of where people live, we will use the gridded [population dataset](https://drive.google.com/open?id=1cAWvkghpD6nPVlpqwxz3S6jqox5zQKgu&usp=drive_fs) from World Pop, which has coordinates and number of people at those coordinates (1 km grid cell). For the population, lets limit the analysis to only large population areas (e.g., areas with population greater than  the 75th percentile).\n",
    "\n",
    "### 2.2 Outputs from analysis\n",
    "The client has requested the following outputs:\n",
    "1. A plot showing distribution of the distances\n",
    "2. Summary statistics of the distances (e.g., mean, median, min and max)\n",
    "\n",
    "### 2.3 Submission\n",
    "Submit a Python notebook which has been run and has rendered outputs (plot and printed summary statistics)."
   ]
  },
  {
   "cell_type": "code",
   "execution_count": 2,
   "id": "6b4cfa48-da8a-41cc-a67e-80112fd6520d",
   "metadata": {
    "id": "6b4cfa48-da8a-41cc-a67e-80112fd6520d"
   },
   "outputs": [
    {
     "data": {
      "text/plain": [
       "2941.176470588235"
      ]
     },
     "execution_count": 2,
     "metadata": {},
     "output_type": "execute_result"
    }
   ],
   "source": [
    "50000/"
   ]
  },
  {
   "cell_type": "code",
   "execution_count": 4,
   "id": "9e0381b9-868e-4bd3-a17f-da263fc2b0dd",
   "metadata": {},
   "outputs": [
    {
     "data": {
      "text/plain": [
       "34000"
      ]
     },
     "execution_count": 4,
     "metadata": {},
     "output_type": "execute_result"
    }
   ],
   "source": [
    "17*2000"
   ]
  },
  {
   "cell_type": "code",
   "execution_count": 5,
   "id": "73540412-32c9-4984-b81a-fd28f9704753",
   "metadata": {},
   "outputs": [
    {
     "data": {
      "text/plain": [
       "1764.7058823529412"
      ]
     },
     "execution_count": 5,
     "metadata": {},
     "output_type": "execute_result"
    }
   ],
   "source": [
    "30000/17"
   ]
  },
  {
   "cell_type": "code",
   "execution_count": 7,
   "id": "57b8444e-a277-4678-ac41-13e5a921120c",
   "metadata": {},
   "outputs": [
    {
     "data": {
      "text/plain": [
       "62000"
      ]
     },
     "execution_count": 7,
     "metadata": {},
     "output_type": "execute_result"
    }
   ],
   "source": [
    "30000 + 32000"
   ]
  },
  {
   "cell_type": "code",
   "execution_count": 8,
   "id": "c083ae7c-1afc-4996-9059-33652b220a5b",
   "metadata": {},
   "outputs": [
    {
     "data": {
      "text/plain": [
       "4250000"
      ]
     },
     "execution_count": 8,
     "metadata": {},
     "output_type": "execute_result"
    }
   ],
   "source": [
    "850000*5"
   ]
  },
  {
   "cell_type": "code",
   "execution_count": null,
   "id": "d41a4982-8418-43d0-a622-a08dec18537f",
   "metadata": {},
   "outputs": [],
   "source": []
  }
 ],
 "metadata": {
  "colab": {
   "provenance": []
  },
  "kernelspec": {
   "display_name": "Python 3 (ipykernel)",
   "language": "python",
   "name": "python3"
  },
  "language_info": {
   "codemirror_mode": {
    "name": "ipython",
    "version": 3
   },
   "file_extension": ".py",
   "mimetype": "text/x-python",
   "name": "python",
   "nbconvert_exporter": "python",
   "pygments_lexer": "ipython3",
   "version": "3.10.8"
  }
 },
 "nbformat": 4,
 "nbformat_minor": 5
}
